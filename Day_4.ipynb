{
  "nbformat": 4,
  "nbformat_minor": 0,
  "metadata": {
    "colab": {
      "name": "Day 4.ipynb",
      "provenance": [],
      "collapsed_sections": [],
      "authorship_tag": "ABX9TyOUK4Rm53mBlcEPWua2SXW9",
      "include_colab_link": true
    },
    "kernelspec": {
      "name": "python3",
      "display_name": "Python 3"
    }
  },
  "cells": [
    {
      "cell_type": "markdown",
      "metadata": {
        "id": "view-in-github",
        "colab_type": "text"
      },
      "source": [
        "<a href=\"https://colab.research.google.com/github/sssinghsimran7/day4/blob/master/Day_4.ipynb\" target=\"_parent\"><img src=\"https://colab.research.google.com/assets/colab-badge.svg\" alt=\"Open In Colab\"/></a>"
      ]
    },
    {
      "cell_type": "code",
      "metadata": {
        "id": "MahseaMlfdAC",
        "colab_type": "code",
        "colab": {
          "base_uri": "https://localhost:8080/",
          "height": 71
        },
        "outputId": "55893305-cfa5-46a0-87c0-74fd1b00be34"
      },
      "source": [
        "lower = 1042000\n",
        "upper = 702648265\n",
        "print(\"The first Armstrong numbers between\",lower,\"and\",upper,\"is :\")\n",
        "for num in range(lower, upper+1):\n",
        " \n",
        "  # order of number\n",
        "   order = len(str(num))\n",
        "    \n",
        "   # initialize sum\n",
        "   sum = 0\n",
        " \n",
        "   x = num\n",
        "   while x > 0:\n",
        "       digit = x % 10\n",
        "       sum = sum + digit ** order\n",
        "       digit = digit*10\n",
        "       x = x//10\n",
        "   if num == sum:      \n",
        "    print(num)\n",
        "    break"
      ],
      "execution_count": 66,
      "outputs": [
        {
          "output_type": "stream",
          "text": [
            "The first Armstrong numbers between 1042000 and 702648265 is :\n",
            "1741725\n"
          ],
          "name": "stdout"
        }
      ]
    }
  ]
}